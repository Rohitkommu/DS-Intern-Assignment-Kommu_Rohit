{
 "cells": [
  {
   "cell_type": "code",
   "execution_count": 1,
   "id": "205050cf-619c-49be-9ded-043c3ce4f170",
   "metadata": {},
   "outputs": [],
   "source": [
    "import pandas as pd\n",
    "import numpy  as np\n",
    "import matplotlib.pyplot as plt\n",
    "import seaborn as sns\n"
   ]
  },
  {
   "cell_type": "markdown",
   "id": "c9db5366-d431-48d4-898c-e0cdffa1f189",
   "metadata": {},
   "source": [
    "##### Loading Data"
   ]
  },
  {
   "cell_type": "code",
   "execution_count": 2,
   "id": "536b83dc-971f-43a0-b233-ea23a222ce69",
   "metadata": {},
   "outputs": [],
   "source": [
    "file_path = 'data.csv' # loading data \n",
    "df = pd.read_csv(file_path)"
   ]
  },
  {
   "cell_type": "code",
   "execution_count": 3,
   "id": "8583e7ce-9ab2-4447-84b5-368e8a235c82",
   "metadata": {},
   "outputs": [
    {
     "name": "stdout",
     "output_type": "stream",
     "text": [
      "29\n"
     ]
    }
   ],
   "source": [
    "print(len(df.columns))"
   ]
  },
  {
   "cell_type": "code",
   "execution_count": 4,
   "id": "c0efb6c5-e0ec-4dec-b1ad-ec7442c0acfe",
   "metadata": {},
   "outputs": [
    {
     "data": {
      "text/html": [
       "<div>\n",
       "<style scoped>\n",
       "    .dataframe tbody tr th:only-of-type {\n",
       "        vertical-align: middle;\n",
       "    }\n",
       "\n",
       "    .dataframe tbody tr th {\n",
       "        vertical-align: top;\n",
       "    }\n",
       "\n",
       "    .dataframe thead th {\n",
       "        text-align: right;\n",
       "    }\n",
       "</style>\n",
       "<table border=\"1\" class=\"dataframe\">\n",
       "  <thead>\n",
       "    <tr style=\"text-align: right;\">\n",
       "      <th></th>\n",
       "      <th>timestamp</th>\n",
       "      <th>equipment_energy_consumption</th>\n",
       "      <th>lighting_energy</th>\n",
       "      <th>zone1_temperature</th>\n",
       "      <th>zone1_humidity</th>\n",
       "      <th>zone2_temperature</th>\n",
       "      <th>zone2_humidity</th>\n",
       "      <th>zone3_temperature</th>\n",
       "      <th>zone3_humidity</th>\n",
       "      <th>zone4_temperature</th>\n",
       "      <th>...</th>\n",
       "      <th>zone9_temperature</th>\n",
       "      <th>zone9_humidity</th>\n",
       "      <th>outdoor_temperature</th>\n",
       "      <th>atmospheric_pressure</th>\n",
       "      <th>outdoor_humidity</th>\n",
       "      <th>wind_speed</th>\n",
       "      <th>visibility_index</th>\n",
       "      <th>dew_point</th>\n",
       "      <th>random_variable1</th>\n",
       "      <th>random_variable2</th>\n",
       "    </tr>\n",
       "  </thead>\n",
       "  <tbody>\n",
       "    <tr>\n",
       "      <th>0</th>\n",
       "      <td>2016-01-11 17:00:00</td>\n",
       "      <td>60.0</td>\n",
       "      <td>-77.78778596503064</td>\n",
       "      <td>33.74660933896648</td>\n",
       "      <td>47.59666666666671</td>\n",
       "      <td>19.2</td>\n",
       "      <td>44.790000</td>\n",
       "      <td>19.79</td>\n",
       "      <td>NaN</td>\n",
       "      <td>19.000000</td>\n",
       "      <td>...</td>\n",
       "      <td>17.033333</td>\n",
       "      <td>45.53</td>\n",
       "      <td>6.600000</td>\n",
       "      <td>733.5</td>\n",
       "      <td>92.0</td>\n",
       "      <td>7.000000</td>\n",
       "      <td>63.000000</td>\n",
       "      <td>5.300000</td>\n",
       "      <td>13.275433</td>\n",
       "      <td>13.275433</td>\n",
       "    </tr>\n",
       "    <tr>\n",
       "      <th>1</th>\n",
       "      <td>2016-01-11 17:10:00</td>\n",
       "      <td>60.0</td>\n",
       "      <td>30.0</td>\n",
       "      <td>19.89</td>\n",
       "      <td>46.69333333333329</td>\n",
       "      <td>19.2</td>\n",
       "      <td>44.722500</td>\n",
       "      <td>19.79</td>\n",
       "      <td>44.790000</td>\n",
       "      <td>19.000000</td>\n",
       "      <td>...</td>\n",
       "      <td>17.066667</td>\n",
       "      <td>45.56</td>\n",
       "      <td>6.483333</td>\n",
       "      <td>733.6</td>\n",
       "      <td>92.0</td>\n",
       "      <td>6.666667</td>\n",
       "      <td>59.166667</td>\n",
       "      <td>5.200000</td>\n",
       "      <td>18.606195</td>\n",
       "      <td>18.606195</td>\n",
       "    </tr>\n",
       "    <tr>\n",
       "      <th>2</th>\n",
       "      <td>2016-01-11 17:20:00</td>\n",
       "      <td>50.0</td>\n",
       "      <td>30.0</td>\n",
       "      <td>19.89</td>\n",
       "      <td>46.3</td>\n",
       "      <td>19.2</td>\n",
       "      <td>44.626667</td>\n",
       "      <td>19.79</td>\n",
       "      <td>44.933333</td>\n",
       "      <td>35.921144</td>\n",
       "      <td>...</td>\n",
       "      <td>17.000000</td>\n",
       "      <td>45.50</td>\n",
       "      <td>6.366667</td>\n",
       "      <td>733.7</td>\n",
       "      <td>92.0</td>\n",
       "      <td>6.333333</td>\n",
       "      <td>55.333333</td>\n",
       "      <td>5.100000</td>\n",
       "      <td>28.642668</td>\n",
       "      <td>28.642668</td>\n",
       "    </tr>\n",
       "    <tr>\n",
       "      <th>3</th>\n",
       "      <td>2016-01-11 17:30:00</td>\n",
       "      <td>50.0</td>\n",
       "      <td>40.0</td>\n",
       "      <td>33.74660933896648</td>\n",
       "      <td>46.0666666666667</td>\n",
       "      <td>19.2</td>\n",
       "      <td>44.590000</td>\n",
       "      <td>19.79</td>\n",
       "      <td>45.000000</td>\n",
       "      <td>NaN</td>\n",
       "      <td>...</td>\n",
       "      <td>17.000000</td>\n",
       "      <td>45.40</td>\n",
       "      <td>6.250000</td>\n",
       "      <td>733.8</td>\n",
       "      <td>92.0</td>\n",
       "      <td>6.000000</td>\n",
       "      <td>51.500000</td>\n",
       "      <td>37.673716</td>\n",
       "      <td>45.410389</td>\n",
       "      <td>45.410389</td>\n",
       "    </tr>\n",
       "    <tr>\n",
       "      <th>4</th>\n",
       "      <td>2016-01-11 17:40:00</td>\n",
       "      <td>60.0</td>\n",
       "      <td>40.0</td>\n",
       "      <td>19.89</td>\n",
       "      <td>46.33333333333329</td>\n",
       "      <td>19.2</td>\n",
       "      <td>44.530000</td>\n",
       "      <td>19.79</td>\n",
       "      <td>45.000000</td>\n",
       "      <td>18.890000</td>\n",
       "      <td>...</td>\n",
       "      <td>4.476511</td>\n",
       "      <td>45.40</td>\n",
       "      <td>6.133333</td>\n",
       "      <td>733.9</td>\n",
       "      <td>92.0</td>\n",
       "      <td>5.666667</td>\n",
       "      <td>47.666667</td>\n",
       "      <td>4.900000</td>\n",
       "      <td>10.084097</td>\n",
       "      <td>10.084097</td>\n",
       "    </tr>\n",
       "  </tbody>\n",
       "</table>\n",
       "<p>5 rows × 29 columns</p>\n",
       "</div>"
      ],
      "text/plain": [
       "             timestamp equipment_energy_consumption     lighting_energy  \\\n",
       "0  2016-01-11 17:00:00                         60.0  -77.78778596503064   \n",
       "1  2016-01-11 17:10:00                         60.0                30.0   \n",
       "2  2016-01-11 17:20:00                         50.0                30.0   \n",
       "3  2016-01-11 17:30:00                         50.0                40.0   \n",
       "4  2016-01-11 17:40:00                         60.0                40.0   \n",
       "\n",
       "   zone1_temperature     zone1_humidity zone2_temperature  zone2_humidity  \\\n",
       "0  33.74660933896648  47.59666666666671              19.2       44.790000   \n",
       "1              19.89  46.69333333333329              19.2       44.722500   \n",
       "2              19.89               46.3              19.2       44.626667   \n",
       "3  33.74660933896648   46.0666666666667              19.2       44.590000   \n",
       "4              19.89  46.33333333333329              19.2       44.530000   \n",
       "\n",
       "   zone3_temperature  zone3_humidity  zone4_temperature  ...  \\\n",
       "0              19.79             NaN          19.000000  ...   \n",
       "1              19.79       44.790000          19.000000  ...   \n",
       "2              19.79       44.933333          35.921144  ...   \n",
       "3              19.79       45.000000                NaN  ...   \n",
       "4              19.79       45.000000          18.890000  ...   \n",
       "\n",
       "   zone9_temperature  zone9_humidity  outdoor_temperature  \\\n",
       "0          17.033333           45.53             6.600000   \n",
       "1          17.066667           45.56             6.483333   \n",
       "2          17.000000           45.50             6.366667   \n",
       "3          17.000000           45.40             6.250000   \n",
       "4           4.476511           45.40             6.133333   \n",
       "\n",
       "   atmospheric_pressure  outdoor_humidity  wind_speed  visibility_index  \\\n",
       "0                 733.5              92.0    7.000000         63.000000   \n",
       "1                 733.6              92.0    6.666667         59.166667   \n",
       "2                 733.7              92.0    6.333333         55.333333   \n",
       "3                 733.8              92.0    6.000000         51.500000   \n",
       "4                 733.9              92.0    5.666667         47.666667   \n",
       "\n",
       "   dew_point  random_variable1  random_variable2  \n",
       "0   5.300000         13.275433         13.275433  \n",
       "1   5.200000         18.606195         18.606195  \n",
       "2   5.100000         28.642668         28.642668  \n",
       "3  37.673716         45.410389         45.410389  \n",
       "4   4.900000         10.084097         10.084097  \n",
       "\n",
       "[5 rows x 29 columns]"
      ]
     },
     "execution_count": 4,
     "metadata": {},
     "output_type": "execute_result"
    }
   ],
   "source": [
    "df.head()"
   ]
  },
  {
   "cell_type": "markdown",
   "id": "f32e464a-3645-45ec-952d-b4a17b2728a7",
   "metadata": {},
   "source": [
    "##### Checking Data Type"
   ]
  },
  {
   "cell_type": "code",
   "execution_count": 5,
   "id": "bf5531ae-74c3-4122-8701-a95c02c5203c",
   "metadata": {},
   "outputs": [
    {
     "name": "stdout",
     "output_type": "stream",
     "text": [
      "<class 'pandas.core.frame.DataFrame'>\n",
      "RangeIndex: 16857 entries, 0 to 16856\n",
      "Data columns (total 29 columns):\n",
      " #   Column                        Non-Null Count  Dtype  \n",
      "---  ------                        --------------  -----  \n",
      " 0   timestamp                     16857 non-null  object \n",
      " 1   equipment_energy_consumption  16013 non-null  object \n",
      " 2   lighting_energy               16048 non-null  object \n",
      " 3   zone1_temperature             15990 non-null  object \n",
      " 4   zone1_humidity                16056 non-null  object \n",
      " 5   zone2_temperature             16004 non-null  object \n",
      " 6   zone2_humidity                15990 non-null  float64\n",
      " 7   zone3_temperature             16055 non-null  float64\n",
      " 8   zone3_humidity                15979 non-null  float64\n",
      " 9   zone4_temperature             16041 non-null  float64\n",
      " 10  zone4_humidity                16076 non-null  float64\n",
      " 11  zone5_temperature             16019 non-null  float64\n",
      " 12  zone5_humidity                16056 non-null  float64\n",
      " 13  zone6_temperature             16009 non-null  float64\n",
      " 14  zone6_humidity                16010 non-null  float64\n",
      " 15  zone7_temperature             16063 non-null  float64\n",
      " 16  zone7_humidity                16052 non-null  float64\n",
      " 17  zone8_temperature             16009 non-null  float64\n",
      " 18  zone8_humidity                16080 non-null  float64\n",
      " 19  zone9_temperature             16084 non-null  float64\n",
      " 20  zone9_humidity                15969 non-null  float64\n",
      " 21  outdoor_temperature           16051 non-null  float64\n",
      " 22  atmospheric_pressure          16015 non-null  float64\n",
      " 23  outdoor_humidity              16058 non-null  float64\n",
      " 24  wind_speed                    16029 non-null  float64\n",
      " 25  visibility_index              16042 non-null  float64\n",
      " 26  dew_point                     16031 non-null  float64\n",
      " 27  random_variable1              16031 non-null  float64\n",
      " 28  random_variable2              16033 non-null  float64\n",
      "dtypes: float64(23), object(6)\n",
      "memory usage: 3.7+ MB\n"
     ]
    }
   ],
   "source": [
    "df.info()"
   ]
  },
  {
   "cell_type": "code",
   "execution_count": 6,
   "id": "2524b22f-973d-4ee0-bfd2-3e63f9996ba8",
   "metadata": {},
   "outputs": [
    {
     "name": "stdout",
     "output_type": "stream",
     "text": [
      "Index(['timestamp', 'equipment_energy_consumption', 'lighting_energy',\n",
      "       'zone1_temperature', 'zone1_humidity', 'zone2_temperature',\n",
      "       'zone2_humidity', 'zone3_temperature', 'zone3_humidity',\n",
      "       'zone4_temperature', 'zone4_humidity', 'zone5_temperature',\n",
      "       'zone5_humidity', 'zone6_temperature', 'zone6_humidity',\n",
      "       'zone7_temperature', 'zone7_humidity', 'zone8_temperature',\n",
      "       'zone8_humidity', 'zone9_temperature', 'zone9_humidity',\n",
      "       'outdoor_temperature', 'atmospheric_pressure', 'outdoor_humidity',\n",
      "       'wind_speed', 'visibility_index', 'dew_point', 'random_variable1',\n",
      "       'random_variable2'],\n",
      "      dtype='object')\n"
     ]
    }
   ],
   "source": [
    "print(df.columns)"
   ]
  },
  {
   "cell_type": "markdown",
   "id": "371c72e7-150e-42a2-ae8f-97523ec9b0bb",
   "metadata": {},
   "source": [
    "##### Conveting Timestamp values to Date time values\n"
   ]
  },
  {
   "cell_type": "code",
   "execution_count": 7,
   "id": "54b54810-2ae1-4871-8f70-b41958b94437",
   "metadata": {},
   "outputs": [
    {
     "name": "stdout",
     "output_type": "stream",
     "text": [
      "0    1452531600\n",
      "1    1452532200\n",
      "2    1452532800\n",
      "3    1452533400\n",
      "4    1452534000\n",
      "Name: timestamp, dtype: int64\n"
     ]
    }
   ],
   "source": [
    "df['timestamp'] = pd.to_datetime(df['timestamp'])\n",
    "df['timestamp'] = df['timestamp'].astype('int64')//10**9\n",
    "print(df['timestamp'].head())"
   ]
  },
  {
   "cell_type": "markdown",
   "id": "c06a5f81-553d-4e74-a29b-aad2e2544880",
   "metadata": {},
   "source": [
    "##### converting object data type values into int or float using to_numeric"
   ]
  },
  {
   "cell_type": "code",
   "execution_count": 8,
   "id": "8a43f106-e136-4918-bbaf-a5c90bd8eade",
   "metadata": {},
   "outputs": [],
   "source": [
    "df['equipment_energy_consumption'] = pd.to_numeric(df['equipment_energy_consumption'], errors='coerce')\n",
    "df['lighting_energy'] = pd.to_numeric(df['lighting_energy'], errors='coerce')\n",
    "df['zone1_temperature'] = pd.to_numeric(df['zone1_temperature'], errors='coerce')\n",
    "df['zone1_humidity'] = pd.to_numeric(df['zone1_humidity'], errors='coerce')\n",
    "df['zone2_temperature'] = pd.to_numeric(df['zone2_temperature'], errors='coerce')"
   ]
  },
  {
   "cell_type": "markdown",
   "id": "e9e9e291-c671-4860-8ae4-5534bd969cad",
   "metadata": {},
   "source": [
    "##### Checking Null values"
   ]
  },
  {
   "cell_type": "code",
   "execution_count": 9,
   "id": "cf7e626d-6685-47b2-9b1b-1ee573d325ec",
   "metadata": {},
   "outputs": [
    {
     "data": {
      "text/plain": [
       "timestamp                         0\n",
       "equipment_energy_consumption    912\n",
       "lighting_energy                 864\n",
       "zone1_temperature               949\n",
       "zone1_humidity                  888\n",
       "zone2_temperature               923\n",
       "zone2_humidity                  867\n",
       "zone3_temperature               802\n",
       "zone3_humidity                  878\n",
       "zone4_temperature               816\n",
       "zone4_humidity                  781\n",
       "zone5_temperature               838\n",
       "zone5_humidity                  801\n",
       "zone6_temperature               848\n",
       "zone6_humidity                  847\n",
       "zone7_temperature               794\n",
       "zone7_humidity                  805\n",
       "zone8_temperature               848\n",
       "zone8_humidity                  777\n",
       "zone9_temperature               773\n",
       "zone9_humidity                  888\n",
       "outdoor_temperature             806\n",
       "atmospheric_pressure            842\n",
       "outdoor_humidity                799\n",
       "wind_speed                      828\n",
       "visibility_index                815\n",
       "dew_point                       826\n",
       "random_variable1                826\n",
       "random_variable2                824\n",
       "dtype: int64"
      ]
     },
     "execution_count": 9,
     "metadata": {},
     "output_type": "execute_result"
    }
   ],
   "source": [
    "df.isnull().sum()"
   ]
  },
  {
   "cell_type": "markdown",
   "id": "1ec916a6-8d70-4719-b76b-7bacfcb267f8",
   "metadata": {},
   "source": [
    "##### Replacing nan values with mean value"
   ]
  },
  {
   "cell_type": "code",
   "execution_count": 10,
   "id": "2b0dbfd7-624d-472d-8665-433a59d5f5ae",
   "metadata": {},
   "outputs": [
    {
     "name": "stderr",
     "output_type": "stream",
     "text": [
      "C:\\Users\\Chintu\\AppData\\Local\\Temp\\ipykernel_15128\\1911336258.py:2: FutureWarning: A value is trying to be set on a copy of a DataFrame or Series through chained assignment using an inplace method.\n",
      "The behavior will change in pandas 3.0. This inplace method will never work because the intermediate object on which we are setting values always behaves as a copy.\n",
      "\n",
      "For example, when doing 'df[col].method(value, inplace=True)', try using 'df.method({col: value}, inplace=True)' or df[col] = df[col].method(value) instead, to perform the operation inplace on the original object.\n",
      "\n",
      "\n",
      "  df[col].fillna(df[col].mean(), inplace=True)\n"
     ]
    }
   ],
   "source": [
    "for col in df.columns:\n",
    "    df[col].fillna(df[col].mean(), inplace=True)"
   ]
  },
  {
   "cell_type": "markdown",
   "id": "cb172b02-faf9-433e-a0d1-5b3f902eb363",
   "metadata": {},
   "source": [
    "##### Performing Feature selection to select best features"
   ]
  },
  {
   "cell_type": "code",
   "execution_count": 11,
   "id": "7b7aa915-2726-4c4d-bcee-25fb0b13ffa7",
   "metadata": {},
   "outputs": [],
   "source": [
    "# seperating targeted feature and remaining features\n",
    "\n",
    "env_features = ['timestamp', 'lighting_energy',\n",
    "       'zone1_temperature', 'zone1_humidity', 'zone2_temperature',\n",
    "       'zone2_humidity', 'zone3_temperature', 'zone3_humidity',\n",
    "       'zone4_temperature', 'zone4_humidity', 'zone5_temperature',\n",
    "       'zone5_humidity', 'zone6_temperature', 'zone6_humidity',\n",
    "       'zone7_temperature', 'zone7_humidity', 'zone8_temperature',\n",
    "       'zone8_humidity', 'zone9_temperature', 'zone9_humidity',\n",
    "       'outdoor_temperature', 'atmospheric_pressure', 'outdoor_humidity',\n",
    "       'wind_speed', 'visibility_index', 'dew_point', 'random_variable1',\n",
    "       'random_variable2']"
   ]
  },
  {
   "cell_type": "code",
   "execution_count": 12,
   "id": "5f46581e-14ea-4212-ba45-0b8276f7b74e",
   "metadata": {},
   "outputs": [],
   "source": [
    "features = env_features  # env_features are your existing features\n",
    "x = df[features]\n",
    "y = df['equipment_energy_consumption']"
   ]
  },
  {
   "cell_type": "code",
   "execution_count": 13,
   "id": "9c4b67bb-8de2-4c9d-b3c8-129036ba8d8d",
   "metadata": {},
   "outputs": [
    {
     "name": "stdout",
     "output_type": "stream",
     "text": [
      "Index(['timestamp', 'lighting_energy', 'zone1_temperature', 'zone1_humidity',\n",
      "       'zone2_temperature', 'zone2_humidity', 'zone3_temperature',\n",
      "       'zone3_humidity', 'zone4_temperature', 'zone4_humidity',\n",
      "       'zone5_temperature', 'zone5_humidity', 'zone6_temperature',\n",
      "       'zone6_humidity', 'zone7_temperature', 'zone7_humidity',\n",
      "       'zone8_temperature', 'zone8_humidity', 'zone9_temperature',\n",
      "       'zone9_humidity', 'outdoor_temperature', 'atmospheric_pressure',\n",
      "       'outdoor_humidity', 'wind_speed', 'visibility_index', 'dew_point',\n",
      "       'random_variable1', 'random_variable2'],\n",
      "      dtype='object')\n"
     ]
    }
   ],
   "source": [
    "print(x.columns)"
   ]
  },
  {
   "cell_type": "code",
   "execution_count": 16,
   "id": "4db2b5aa-cd44-4adf-be56-744f00cb615f",
   "metadata": {},
   "outputs": [
    {
     "name": "stdout",
     "output_type": "stream",
     "text": [
      "                 Feature      Score\n",
      "1        lighting_energy  49.371695\n",
      "4      zone2_temperature  26.683389\n",
      "22      outdoor_humidity  23.335567\n",
      "6      zone3_temperature  22.121061\n",
      "20   outdoor_temperature  16.944951\n",
      "12     zone6_temperature  15.560457\n",
      "3         zone1_humidity  10.817344\n",
      "17        zone8_humidity   8.808405\n",
      "19        zone9_humidity   7.962538\n",
      "16     zone8_temperature   6.011809\n",
      "13        zone6_humidity   5.698140\n",
      "2      zone1_temperature   5.097502\n",
      "8      zone4_temperature   4.491153\n",
      "26      random_variable1   3.989646\n",
      "21  atmospheric_pressure   2.974449\n",
      "23            wind_speed   2.043070\n",
      "27      random_variable2   1.955420\n",
      "10     zone5_temperature   1.204145\n",
      "11        zone5_humidity   0.964609\n",
      "14     zone7_temperature   0.806994\n",
      "15        zone7_humidity   0.721485\n",
      "7         zone3_humidity   0.677563\n",
      "0              timestamp   0.262331\n",
      "18     zone9_temperature   0.240400\n",
      "5         zone2_humidity   0.235456\n",
      "25             dew_point   0.163892\n",
      "9         zone4_humidity   0.159916\n",
      "24      visibility_index   0.000006\n"
     ]
    }
   ],
   "source": [
    "from sklearn.feature_selection import SelectKBest, f_regression # Select K Best Method\n",
    "\n",
    "selector = SelectKBest(score_func=f_regression, k='all')  # 'k=all' to check all features\n",
    "selector.fit(x, y)\n",
    "\n",
    "# Get scores for all features\n",
    "scores = pd.DataFrame({\n",
    "    'Feature': x.columns,\n",
    "    'Score': selector.scores_\n",
    "})\n",
    "\n",
    "# Sort by scores\n",
    "print(scores.sort_values(by='Score', ascending=False))"
   ]
  },
  {
   "cell_type": "code",
   "execution_count": 18,
   "id": "b1ef842a-f0c1-4b74-a20b-e4274fa6feb9",
   "metadata": {},
   "outputs": [
    {
     "name": "stdout",
     "output_type": "stream",
     "text": [
      "Correlation between timestamp and equipment_energy_consumption: -0.0039\n",
      "Correlation between lighting_energy and equipment_energy_consumption: 0.0540\n",
      "Correlation between zone1_temperature and equipment_energy_consumption: 0.0174\n",
      "Correlation between zone1_humidity and equipment_energy_consumption: 0.0253\n",
      "Correlation between zone2_temperature and equipment_energy_consumption: 0.0398\n",
      "Correlation between zone2_humidity and equipment_energy_consumption: -0.0037\n",
      "Correlation between zone3_temperature and equipment_energy_consumption: 0.0362\n",
      "Correlation between zone3_humidity and equipment_energy_consumption: 0.0063\n",
      "Correlation between zone4_temperature and equipment_energy_consumption: 0.0163\n",
      "Correlation between zone4_humidity and equipment_energy_consumption: -0.0031\n",
      "Correlation between zone5_temperature and equipment_energy_consumption: 0.0085\n",
      "Correlation between zone5_humidity and equipment_energy_consumption: 0.0076\n",
      "Correlation between zone6_temperature and equipment_energy_consumption: 0.0304\n",
      "Correlation between zone6_humidity and equipment_energy_consumption: -0.0184\n",
      "Correlation between zone7_temperature and equipment_energy_consumption: 0.0069\n",
      "Correlation between zone7_humidity and equipment_energy_consumption: -0.0065\n",
      "Correlation between zone8_temperature and equipment_energy_consumption: 0.0189\n",
      "Correlation between zone8_humidity and equipment_energy_consumption: -0.0229\n",
      "Correlation between zone9_temperature and equipment_energy_consumption: 0.0038\n",
      "Correlation between zone9_humidity and equipment_energy_consumption: -0.0217\n",
      "Correlation between outdoor_temperature and equipment_energy_consumption: 0.0317\n",
      "Correlation between atmospheric_pressure and equipment_energy_consumption: -0.0133\n",
      "Correlation between outdoor_humidity and equipment_energy_consumption: -0.0372\n",
      "Correlation between wind_speed and equipment_energy_consumption: 0.0110\n",
      "Correlation between visibility_index and equipment_energy_consumption: 0.0000\n",
      "Correlation between dew_point and equipment_energy_consumption: -0.0031\n",
      "Correlation between random_variable1 and equipment_energy_consumption: -0.0154\n",
      "Correlation between random_variable2 and equipment_energy_consumption: -0.0108\n"
     ]
    }
   ],
   "source": [
    "for i in x:    # Correlation Score method\n",
    "    corr = df[i].corr(df['equipment_energy_consumption'])\n",
    "    print(f\"Correlation between {i} and equipment_energy_consumption: {corr:.4f}\")"
   ]
  },
  {
   "cell_type": "code",
   "execution_count": 19,
   "id": "0060a1e6-19f2-4c4a-835b-92d1ad77fdec",
   "metadata": {},
   "outputs": [
    {
     "name": "stdout",
     "output_type": "stream",
     "text": [
      "Index(['timestamp', 'lighting_energy', 'zone1_temperature', 'zone1_humidity',\n",
      "       'zone2_temperature', 'zone2_humidity', 'zone3_temperature',\n",
      "       'zone3_humidity', 'zone4_temperature', 'zone4_humidity',\n",
      "       'zone5_temperature', 'zone5_humidity', 'zone6_temperature',\n",
      "       'zone6_humidity', 'zone7_temperature', 'zone7_humidity',\n",
      "       'zone8_temperature', 'zone8_humidity', 'zone9_temperature',\n",
      "       'zone9_humidity', 'outdoor_temperature', 'atmospheric_pressure',\n",
      "       'outdoor_humidity', 'wind_speed', 'visibility_index', 'dew_point',\n",
      "       'random_variable1', 'random_variable2'],\n",
      "      dtype='object')\n"
     ]
    }
   ],
   "source": [
    "print(x.columns)"
   ]
  },
  {
   "cell_type": "code",
   "execution_count": 20,
   "id": "59ab918b-7003-48f0-b549-196c7d56b256",
   "metadata": {},
   "outputs": [],
   "source": [
    "x=x.drop(['timestamp','zone1_temperature', 'zone1_humidity',\n",
    "       'zone2_temperature', 'zone2_humidity', 'zone3_temperature',\n",
    "       'zone3_humidity', 'zone4_temperature', 'zone4_humidity',\n",
    "       'zone5_temperature', 'zone5_humidity', 'zone6_temperature',\n",
    "       'zone6_humidity', 'zone7_temperature', 'zone7_humidity',\n",
    "       'zone8_temperature', 'zone8_humidity', 'zone9_temperature',\n",
    "       'zone9_humidity', 'wind_speed', 'dew_point',\n",
    "       'random_variable1', 'random_variable2'], axis =1)"
   ]
  },
  {
   "cell_type": "code",
   "execution_count": 25,
   "id": "afc5a0c3-cab3-42a2-bafc-f125d46be497",
   "metadata": {},
   "outputs": [],
   "source": [
    "X=x\n",
    "Y = df['equipment_energy_consumption']"
   ]
  },
  {
   "cell_type": "markdown",
   "id": "318ddfd7-e570-4d78-83f4-60a9eb4cbd51",
   "metadata": {},
   "source": [
    "##### Train Test Split"
   ]
  },
  {
   "cell_type": "code",
   "execution_count": 26,
   "id": "6dd60982-6ecd-4e74-aa70-1436fe681b2e",
   "metadata": {},
   "outputs": [],
   "source": [
    "from sklearn.model_selection import train_test_split # Train Test Split\n",
    "X_train, X_test, y_train, y_test = train_test_split(x, Y, test_size=0.2, random_state=42)\n"
   ]
  },
  {
   "cell_type": "markdown",
   "id": "d27fe995-8d08-4a84-831e-dc14049ad933",
   "metadata": {},
   "source": [
    "##### Building and evaluating model with Linear Regression Algorithm"
   ]
  },
  {
   "cell_type": "code",
   "execution_count": 27,
   "id": "2bbdf202-021d-4684-bd50-2e0057070f7d",
   "metadata": {},
   "outputs": [
    {
     "data": {
      "text/html": [
       "<style>#sk-container-id-1 {\n",
       "  /* Definition of color scheme common for light and dark mode */\n",
       "  --sklearn-color-text: black;\n",
       "  --sklearn-color-line: gray;\n",
       "  /* Definition of color scheme for unfitted estimators */\n",
       "  --sklearn-color-unfitted-level-0: #fff5e6;\n",
       "  --sklearn-color-unfitted-level-1: #f6e4d2;\n",
       "  --sklearn-color-unfitted-level-2: #ffe0b3;\n",
       "  --sklearn-color-unfitted-level-3: chocolate;\n",
       "  /* Definition of color scheme for fitted estimators */\n",
       "  --sklearn-color-fitted-level-0: #f0f8ff;\n",
       "  --sklearn-color-fitted-level-1: #d4ebff;\n",
       "  --sklearn-color-fitted-level-2: #b3dbfd;\n",
       "  --sklearn-color-fitted-level-3: cornflowerblue;\n",
       "\n",
       "  /* Specific color for light theme */\n",
       "  --sklearn-color-text-on-default-background: var(--sg-text-color, var(--theme-code-foreground, var(--jp-content-font-color1, black)));\n",
       "  --sklearn-color-background: var(--sg-background-color, var(--theme-background, var(--jp-layout-color0, white)));\n",
       "  --sklearn-color-border-box: var(--sg-text-color, var(--theme-code-foreground, var(--jp-content-font-color1, black)));\n",
       "  --sklearn-color-icon: #696969;\n",
       "\n",
       "  @media (prefers-color-scheme: dark) {\n",
       "    /* Redefinition of color scheme for dark theme */\n",
       "    --sklearn-color-text-on-default-background: var(--sg-text-color, var(--theme-code-foreground, var(--jp-content-font-color1, white)));\n",
       "    --sklearn-color-background: var(--sg-background-color, var(--theme-background, var(--jp-layout-color0, #111)));\n",
       "    --sklearn-color-border-box: var(--sg-text-color, var(--theme-code-foreground, var(--jp-content-font-color1, white)));\n",
       "    --sklearn-color-icon: #878787;\n",
       "  }\n",
       "}\n",
       "\n",
       "#sk-container-id-1 {\n",
       "  color: var(--sklearn-color-text);\n",
       "}\n",
       "\n",
       "#sk-container-id-1 pre {\n",
       "  padding: 0;\n",
       "}\n",
       "\n",
       "#sk-container-id-1 input.sk-hidden--visually {\n",
       "  border: 0;\n",
       "  clip: rect(1px 1px 1px 1px);\n",
       "  clip: rect(1px, 1px, 1px, 1px);\n",
       "  height: 1px;\n",
       "  margin: -1px;\n",
       "  overflow: hidden;\n",
       "  padding: 0;\n",
       "  position: absolute;\n",
       "  width: 1px;\n",
       "}\n",
       "\n",
       "#sk-container-id-1 div.sk-dashed-wrapped {\n",
       "  border: 1px dashed var(--sklearn-color-line);\n",
       "  margin: 0 0.4em 0.5em 0.4em;\n",
       "  box-sizing: border-box;\n",
       "  padding-bottom: 0.4em;\n",
       "  background-color: var(--sklearn-color-background);\n",
       "}\n",
       "\n",
       "#sk-container-id-1 div.sk-container {\n",
       "  /* jupyter's `normalize.less` sets `[hidden] { display: none; }`\n",
       "     but bootstrap.min.css set `[hidden] { display: none !important; }`\n",
       "     so we also need the `!important` here to be able to override the\n",
       "     default hidden behavior on the sphinx rendered scikit-learn.org.\n",
       "     See: https://github.com/scikit-learn/scikit-learn/issues/21755 */\n",
       "  display: inline-block !important;\n",
       "  position: relative;\n",
       "}\n",
       "\n",
       "#sk-container-id-1 div.sk-text-repr-fallback {\n",
       "  display: none;\n",
       "}\n",
       "\n",
       "div.sk-parallel-item,\n",
       "div.sk-serial,\n",
       "div.sk-item {\n",
       "  /* draw centered vertical line to link estimators */\n",
       "  background-image: linear-gradient(var(--sklearn-color-text-on-default-background), var(--sklearn-color-text-on-default-background));\n",
       "  background-size: 2px 100%;\n",
       "  background-repeat: no-repeat;\n",
       "  background-position: center center;\n",
       "}\n",
       "\n",
       "/* Parallel-specific style estimator block */\n",
       "\n",
       "#sk-container-id-1 div.sk-parallel-item::after {\n",
       "  content: \"\";\n",
       "  width: 100%;\n",
       "  border-bottom: 2px solid var(--sklearn-color-text-on-default-background);\n",
       "  flex-grow: 1;\n",
       "}\n",
       "\n",
       "#sk-container-id-1 div.sk-parallel {\n",
       "  display: flex;\n",
       "  align-items: stretch;\n",
       "  justify-content: center;\n",
       "  background-color: var(--sklearn-color-background);\n",
       "  position: relative;\n",
       "}\n",
       "\n",
       "#sk-container-id-1 div.sk-parallel-item {\n",
       "  display: flex;\n",
       "  flex-direction: column;\n",
       "}\n",
       "\n",
       "#sk-container-id-1 div.sk-parallel-item:first-child::after {\n",
       "  align-self: flex-end;\n",
       "  width: 50%;\n",
       "}\n",
       "\n",
       "#sk-container-id-1 div.sk-parallel-item:last-child::after {\n",
       "  align-self: flex-start;\n",
       "  width: 50%;\n",
       "}\n",
       "\n",
       "#sk-container-id-1 div.sk-parallel-item:only-child::after {\n",
       "  width: 0;\n",
       "}\n",
       "\n",
       "/* Serial-specific style estimator block */\n",
       "\n",
       "#sk-container-id-1 div.sk-serial {\n",
       "  display: flex;\n",
       "  flex-direction: column;\n",
       "  align-items: center;\n",
       "  background-color: var(--sklearn-color-background);\n",
       "  padding-right: 1em;\n",
       "  padding-left: 1em;\n",
       "}\n",
       "\n",
       "\n",
       "/* Toggleable style: style used for estimator/Pipeline/ColumnTransformer box that is\n",
       "clickable and can be expanded/collapsed.\n",
       "- Pipeline and ColumnTransformer use this feature and define the default style\n",
       "- Estimators will overwrite some part of the style using the `sk-estimator` class\n",
       "*/\n",
       "\n",
       "/* Pipeline and ColumnTransformer style (default) */\n",
       "\n",
       "#sk-container-id-1 div.sk-toggleable {\n",
       "  /* Default theme specific background. It is overwritten whether we have a\n",
       "  specific estimator or a Pipeline/ColumnTransformer */\n",
       "  background-color: var(--sklearn-color-background);\n",
       "}\n",
       "\n",
       "/* Toggleable label */\n",
       "#sk-container-id-1 label.sk-toggleable__label {\n",
       "  cursor: pointer;\n",
       "  display: block;\n",
       "  width: 100%;\n",
       "  margin-bottom: 0;\n",
       "  padding: 0.5em;\n",
       "  box-sizing: border-box;\n",
       "  text-align: center;\n",
       "}\n",
       "\n",
       "#sk-container-id-1 label.sk-toggleable__label-arrow:before {\n",
       "  /* Arrow on the left of the label */\n",
       "  content: \"▸\";\n",
       "  float: left;\n",
       "  margin-right: 0.25em;\n",
       "  color: var(--sklearn-color-icon);\n",
       "}\n",
       "\n",
       "#sk-container-id-1 label.sk-toggleable__label-arrow:hover:before {\n",
       "  color: var(--sklearn-color-text);\n",
       "}\n",
       "\n",
       "/* Toggleable content - dropdown */\n",
       "\n",
       "#sk-container-id-1 div.sk-toggleable__content {\n",
       "  max-height: 0;\n",
       "  max-width: 0;\n",
       "  overflow: hidden;\n",
       "  text-align: left;\n",
       "  /* unfitted */\n",
       "  background-color: var(--sklearn-color-unfitted-level-0);\n",
       "}\n",
       "\n",
       "#sk-container-id-1 div.sk-toggleable__content.fitted {\n",
       "  /* fitted */\n",
       "  background-color: var(--sklearn-color-fitted-level-0);\n",
       "}\n",
       "\n",
       "#sk-container-id-1 div.sk-toggleable__content pre {\n",
       "  margin: 0.2em;\n",
       "  border-radius: 0.25em;\n",
       "  color: var(--sklearn-color-text);\n",
       "  /* unfitted */\n",
       "  background-color: var(--sklearn-color-unfitted-level-0);\n",
       "}\n",
       "\n",
       "#sk-container-id-1 div.sk-toggleable__content.fitted pre {\n",
       "  /* unfitted */\n",
       "  background-color: var(--sklearn-color-fitted-level-0);\n",
       "}\n",
       "\n",
       "#sk-container-id-1 input.sk-toggleable__control:checked~div.sk-toggleable__content {\n",
       "  /* Expand drop-down */\n",
       "  max-height: 200px;\n",
       "  max-width: 100%;\n",
       "  overflow: auto;\n",
       "}\n",
       "\n",
       "#sk-container-id-1 input.sk-toggleable__control:checked~label.sk-toggleable__label-arrow:before {\n",
       "  content: \"▾\";\n",
       "}\n",
       "\n",
       "/* Pipeline/ColumnTransformer-specific style */\n",
       "\n",
       "#sk-container-id-1 div.sk-label input.sk-toggleable__control:checked~label.sk-toggleable__label {\n",
       "  color: var(--sklearn-color-text);\n",
       "  background-color: var(--sklearn-color-unfitted-level-2);\n",
       "}\n",
       "\n",
       "#sk-container-id-1 div.sk-label.fitted input.sk-toggleable__control:checked~label.sk-toggleable__label {\n",
       "  background-color: var(--sklearn-color-fitted-level-2);\n",
       "}\n",
       "\n",
       "/* Estimator-specific style */\n",
       "\n",
       "/* Colorize estimator box */\n",
       "#sk-container-id-1 div.sk-estimator input.sk-toggleable__control:checked~label.sk-toggleable__label {\n",
       "  /* unfitted */\n",
       "  background-color: var(--sklearn-color-unfitted-level-2);\n",
       "}\n",
       "\n",
       "#sk-container-id-1 div.sk-estimator.fitted input.sk-toggleable__control:checked~label.sk-toggleable__label {\n",
       "  /* fitted */\n",
       "  background-color: var(--sklearn-color-fitted-level-2);\n",
       "}\n",
       "\n",
       "#sk-container-id-1 div.sk-label label.sk-toggleable__label,\n",
       "#sk-container-id-1 div.sk-label label {\n",
       "  /* The background is the default theme color */\n",
       "  color: var(--sklearn-color-text-on-default-background);\n",
       "}\n",
       "\n",
       "/* On hover, darken the color of the background */\n",
       "#sk-container-id-1 div.sk-label:hover label.sk-toggleable__label {\n",
       "  color: var(--sklearn-color-text);\n",
       "  background-color: var(--sklearn-color-unfitted-level-2);\n",
       "}\n",
       "\n",
       "/* Label box, darken color on hover, fitted */\n",
       "#sk-container-id-1 div.sk-label.fitted:hover label.sk-toggleable__label.fitted {\n",
       "  color: var(--sklearn-color-text);\n",
       "  background-color: var(--sklearn-color-fitted-level-2);\n",
       "}\n",
       "\n",
       "/* Estimator label */\n",
       "\n",
       "#sk-container-id-1 div.sk-label label {\n",
       "  font-family: monospace;\n",
       "  font-weight: bold;\n",
       "  display: inline-block;\n",
       "  line-height: 1.2em;\n",
       "}\n",
       "\n",
       "#sk-container-id-1 div.sk-label-container {\n",
       "  text-align: center;\n",
       "}\n",
       "\n",
       "/* Estimator-specific */\n",
       "#sk-container-id-1 div.sk-estimator {\n",
       "  font-family: monospace;\n",
       "  border: 1px dotted var(--sklearn-color-border-box);\n",
       "  border-radius: 0.25em;\n",
       "  box-sizing: border-box;\n",
       "  margin-bottom: 0.5em;\n",
       "  /* unfitted */\n",
       "  background-color: var(--sklearn-color-unfitted-level-0);\n",
       "}\n",
       "\n",
       "#sk-container-id-1 div.sk-estimator.fitted {\n",
       "  /* fitted */\n",
       "  background-color: var(--sklearn-color-fitted-level-0);\n",
       "}\n",
       "\n",
       "/* on hover */\n",
       "#sk-container-id-1 div.sk-estimator:hover {\n",
       "  /* unfitted */\n",
       "  background-color: var(--sklearn-color-unfitted-level-2);\n",
       "}\n",
       "\n",
       "#sk-container-id-1 div.sk-estimator.fitted:hover {\n",
       "  /* fitted */\n",
       "  background-color: var(--sklearn-color-fitted-level-2);\n",
       "}\n",
       "\n",
       "/* Specification for estimator info (e.g. \"i\" and \"?\") */\n",
       "\n",
       "/* Common style for \"i\" and \"?\" */\n",
       "\n",
       ".sk-estimator-doc-link,\n",
       "a:link.sk-estimator-doc-link,\n",
       "a:visited.sk-estimator-doc-link {\n",
       "  float: right;\n",
       "  font-size: smaller;\n",
       "  line-height: 1em;\n",
       "  font-family: monospace;\n",
       "  background-color: var(--sklearn-color-background);\n",
       "  border-radius: 1em;\n",
       "  height: 1em;\n",
       "  width: 1em;\n",
       "  text-decoration: none !important;\n",
       "  margin-left: 1ex;\n",
       "  /* unfitted */\n",
       "  border: var(--sklearn-color-unfitted-level-1) 1pt solid;\n",
       "  color: var(--sklearn-color-unfitted-level-1);\n",
       "}\n",
       "\n",
       ".sk-estimator-doc-link.fitted,\n",
       "a:link.sk-estimator-doc-link.fitted,\n",
       "a:visited.sk-estimator-doc-link.fitted {\n",
       "  /* fitted */\n",
       "  border: var(--sklearn-color-fitted-level-1) 1pt solid;\n",
       "  color: var(--sklearn-color-fitted-level-1);\n",
       "}\n",
       "\n",
       "/* On hover */\n",
       "div.sk-estimator:hover .sk-estimator-doc-link:hover,\n",
       ".sk-estimator-doc-link:hover,\n",
       "div.sk-label-container:hover .sk-estimator-doc-link:hover,\n",
       ".sk-estimator-doc-link:hover {\n",
       "  /* unfitted */\n",
       "  background-color: var(--sklearn-color-unfitted-level-3);\n",
       "  color: var(--sklearn-color-background);\n",
       "  text-decoration: none;\n",
       "}\n",
       "\n",
       "div.sk-estimator.fitted:hover .sk-estimator-doc-link.fitted:hover,\n",
       ".sk-estimator-doc-link.fitted:hover,\n",
       "div.sk-label-container:hover .sk-estimator-doc-link.fitted:hover,\n",
       ".sk-estimator-doc-link.fitted:hover {\n",
       "  /* fitted */\n",
       "  background-color: var(--sklearn-color-fitted-level-3);\n",
       "  color: var(--sklearn-color-background);\n",
       "  text-decoration: none;\n",
       "}\n",
       "\n",
       "/* Span, style for the box shown on hovering the info icon */\n",
       ".sk-estimator-doc-link span {\n",
       "  display: none;\n",
       "  z-index: 9999;\n",
       "  position: relative;\n",
       "  font-weight: normal;\n",
       "  right: .2ex;\n",
       "  padding: .5ex;\n",
       "  margin: .5ex;\n",
       "  width: min-content;\n",
       "  min-width: 20ex;\n",
       "  max-width: 50ex;\n",
       "  color: var(--sklearn-color-text);\n",
       "  box-shadow: 2pt 2pt 4pt #999;\n",
       "  /* unfitted */\n",
       "  background: var(--sklearn-color-unfitted-level-0);\n",
       "  border: .5pt solid var(--sklearn-color-unfitted-level-3);\n",
       "}\n",
       "\n",
       ".sk-estimator-doc-link.fitted span {\n",
       "  /* fitted */\n",
       "  background: var(--sklearn-color-fitted-level-0);\n",
       "  border: var(--sklearn-color-fitted-level-3);\n",
       "}\n",
       "\n",
       ".sk-estimator-doc-link:hover span {\n",
       "  display: block;\n",
       "}\n",
       "\n",
       "/* \"?\"-specific style due to the `<a>` HTML tag */\n",
       "\n",
       "#sk-container-id-1 a.estimator_doc_link {\n",
       "  float: right;\n",
       "  font-size: 1rem;\n",
       "  line-height: 1em;\n",
       "  font-family: monospace;\n",
       "  background-color: var(--sklearn-color-background);\n",
       "  border-radius: 1rem;\n",
       "  height: 1rem;\n",
       "  width: 1rem;\n",
       "  text-decoration: none;\n",
       "  /* unfitted */\n",
       "  color: var(--sklearn-color-unfitted-level-1);\n",
       "  border: var(--sklearn-color-unfitted-level-1) 1pt solid;\n",
       "}\n",
       "\n",
       "#sk-container-id-1 a.estimator_doc_link.fitted {\n",
       "  /* fitted */\n",
       "  border: var(--sklearn-color-fitted-level-1) 1pt solid;\n",
       "  color: var(--sklearn-color-fitted-level-1);\n",
       "}\n",
       "\n",
       "/* On hover */\n",
       "#sk-container-id-1 a.estimator_doc_link:hover {\n",
       "  /* unfitted */\n",
       "  background-color: var(--sklearn-color-unfitted-level-3);\n",
       "  color: var(--sklearn-color-background);\n",
       "  text-decoration: none;\n",
       "}\n",
       "\n",
       "#sk-container-id-1 a.estimator_doc_link.fitted:hover {\n",
       "  /* fitted */\n",
       "  background-color: var(--sklearn-color-fitted-level-3);\n",
       "}\n",
       "</style><div id=\"sk-container-id-1\" class=\"sk-top-container\"><div class=\"sk-text-repr-fallback\"><pre>LinearRegression()</pre><b>In a Jupyter environment, please rerun this cell to show the HTML representation or trust the notebook. <br />On GitHub, the HTML representation is unable to render, please try loading this page with nbviewer.org.</b></div><div class=\"sk-container\" hidden><div class=\"sk-item\"><div class=\"sk-estimator fitted sk-toggleable\"><input class=\"sk-toggleable__control sk-hidden--visually\" id=\"sk-estimator-id-1\" type=\"checkbox\" checked><label for=\"sk-estimator-id-1\" class=\"sk-toggleable__label fitted sk-toggleable__label-arrow fitted\">&nbsp;&nbsp;LinearRegression<a class=\"sk-estimator-doc-link fitted\" rel=\"noreferrer\" target=\"_blank\" href=\"https://scikit-learn.org/1.5/modules/generated/sklearn.linear_model.LinearRegression.html\">?<span>Documentation for LinearRegression</span></a><span class=\"sk-estimator-doc-link fitted\">i<span>Fitted</span></span></label><div class=\"sk-toggleable__content fitted\"><pre>LinearRegression()</pre></div> </div></div></div></div>"
      ],
      "text/plain": [
       "LinearRegression()"
      ]
     },
     "execution_count": 27,
     "metadata": {},
     "output_type": "execute_result"
    }
   ],
   "source": [
    "from sklearn.linear_model import LinearRegression # Training model with Linear Regression\n",
    "model = LinearRegression()\n",
    "\n",
    "# Train the model\n",
    "model.fit(X_train, y_train)"
   ]
  },
  {
   "cell_type": "code",
   "execution_count": 28,
   "id": "31f731b3-3b0d-44a1-8d02-a4d1ab877d02",
   "metadata": {},
   "outputs": [],
   "source": [
    "y_pred = model.predict(X_test)"
   ]
  },
  {
   "cell_type": "code",
   "execution_count": 29,
   "id": "19770704-126e-4cbc-a30f-a3407eef0fcb",
   "metadata": {},
   "outputs": [
    {
     "name": "stdout",
     "output_type": "stream",
     "text": [
      "Mean Squared Error: 32093.201253415\n",
      "R^2 Score: 0.0028384743411244973\n"
     ]
    }
   ],
   "source": [
    "from sklearn.metrics import mean_squared_error, r2_score\n",
    "mse = mean_squared_error(y_test, y_pred)\n",
    "r2 = r2_score(y_test, y_pred)\n",
    "\n",
    "print(f\"Mean Squared Error: {mse}\")\n",
    "print(f\"R^2 Score: {r2}\")"
   ]
  },
  {
   "cell_type": "code",
   "execution_count": 30,
   "id": "ac5700a0-e3bc-4b3c-b32c-4077bcbeae57",
   "metadata": {},
   "outputs": [
    {
     "data": {
      "text/plain": [
       "<Figure size 800x600 with 0 Axes>"
      ]
     },
     "metadata": {},
     "output_type": "display_data"
    },
    {
     "data": {
      "image/png": "[encoded data removed]",
      "text/plain": [
       "<Figure size 600x600 with 3 Axes>"
      ]
     },
     "metadata": {},
     "output_type": "display_data"
    }
   ],
   "source": [
    "plt.figure(figsize=(8, 6))\n",
    "sns.jointplot(x=y_test, y=y_pred)\n",
    "plt.xlabel('Actual Equipment Energy Consumption')\n",
    "plt.ylabel('Predicted Equipment Energy Consumption')\n",
    "plt.title('Actual vs Predicted')\n",
    "plt.show()"
   ]
  },
  {
   "cell_type": "markdown",
   "id": "599f426a-d107-496e-9fb6-dc30968ccb65",
   "metadata": {},
   "source": [
    "##### Building and evaluating model with Random Forest Regressor"
   ]
  },
  {
   "cell_type": "code",
   "execution_count": 31,
   "id": "ffb1169e-2fb7-45f6-83c5-3b5fb395c634",
   "metadata": {},
   "outputs": [
    {
     "name": "stdout",
     "output_type": "stream",
     "text": [
      "Mean Squared Error: 31767.525749153552\n",
      "R^2 Score: 0.012957473693503418\n"
     ]
    }
   ],
   "source": [
    "from sklearn.ensemble import RandomForestRegressor # Training model with Random Forest Regressor\n",
    "from sklearn.metrics import mean_squared_error, r2_score\n",
    "\n",
    "# Train Random Forest\n",
    "rf_model = RandomForestRegressor(random_state=42)\n",
    "rf_model.fit(X_train, y_train)\n",
    "\n",
    "# Predict & evaluate\n",
    "y_pred_rf = rf_model.predict(X_test)\n",
    "mse_rf = mean_squared_error(y_test, y_pred_rf)\n",
    "r2_rf = r2_score(y_test, y_pred_rf)\n",
    "\n",
    "print(f\"Mean Squared Error: {mse_rf}\")\n",
    "print(f\"R^2 Score: {r2_rf}\")"
   ]
  },
  {
   "cell_type": "code",
   "execution_count": 33,
   "id": "e909195b-0a40-44d7-acc2-6a9537d1e2b7",
   "metadata": {},
   "outputs": [
    {
     "data": {
      "text/plain": [
       "<Figure size 800x600 with 0 Axes>"
      ]
     },
     "metadata": {},
     "output_type": "display_data"
    },
    {
     "data": {
      "image/png": "[encoded data removed]",
      "text/plain": [
       "<Figure size 600x600 with 3 Axes>"
      ]
     },
     "metadata": {},
     "output_type": "display_data"
    }
   ],
   "source": [
    "plt.figure(figsize=(8, 6))\n",
    "sns.jointplot(x=y_test, y=y_pred)\n",
    "plt.xlabel('Actual Equipment Energy Consumption')\n",
    "plt.ylabel('Predicted Equipment Energy Consumption')\n",
    "plt.title('Actual vs Predicted')\n",
    "plt.show()"
   ]
  },
  {
   "cell_type": "markdown",
   "id": "0d1cbd7e-e1b9-4825-99d8-da1cec21d1aa",
   "metadata": {},
   "source": [
    "##### Saving model and getting output with different inputs"
   ]
  },
  {
   "cell_type": "code",
   "execution_count": 35,
   "id": "e303752d-2f3f-4a40-9c62-14e4798563b8",
   "metadata": {},
   "outputs": [
    {
     "data": {
      "text/plain": [
       "['final_regression_model.pkl']"
      ]
     },
     "execution_count": 35,
     "metadata": {},
     "output_type": "execute_result"
    }
   ],
   "source": [
    "import joblib\n",
    "\n",
    "\n",
    "joblib.dump(rf_model, 'final_regression_model.pkl')"
   ]
  },
  {
   "cell_type": "code",
   "execution_count": null,
   "id": "5aa24b71-be8f-423c-8ee5-2d252f03a8f5",
   "metadata": {},
   "outputs": [],
   "source": []
  },
  {
   "cell_type": "code",
   "execution_count": 43,
   "id": "62667d9a-a2ce-4f4d-9711-4f3d058ea023",
   "metadata": {},
   "outputs": [
    {
     "name": "stdout",
     "output_type": "stream",
     "text": [
      "[198.01482838   7.57563233  15.06319232]\n"
     ]
    }
   ],
   "source": [
    "feature_cols = ['lighting_energy', 'outdoor_temperature', 'atmospheric_pressure', 'outdoor_humidity', 'visibility_index']\n",
    "\n",
    "# New data (make sure it's in the same feature order & preprocessed the same way)\n",
    "X_new = pd.DataFrame({\n",
    "    'lighting_energy': [120,132,150],\n",
    "    'outdoor_temperature': [30,35,40],\n",
    "    'atmospheric_pressure': [1012,1100,1265],\n",
    "    'outdoor_humidity': [65,70,72],\n",
    "    'visibility_index': [8,4,2]\n",
    "})\n",
    "\n",
    "predictions = rf_model.predict(X_new)\n",
    "print(predictions)"
   ]
  },
  {
   "cell_type": "code",
   "execution_count": null,
   "id": "bea69e10-7326-42c5-9590-0514ca86e29a",
   "metadata": {},
   "outputs": [],
   "source": []
  },
  {
   "cell_type": "code",
   "execution_count": null,
   "id": "3adb4f6c-3bdc-4647-a752-6884ac0f455c",
   "metadata": {},
   "outputs": [],
   "source": []
  }
 ],
 "metadata": {
  "kernelspec": {
   "display_name": "Python 3 (ipykernel)",
   "language": "python",
   "name": "python3"
  },
  "language_info": {
   "codemirror_mode": {
    "name": "ipython",
    "version": 3
   },
   "file_extension": ".py",
   "mimetype": "text/x-python",
   "name": "python",
   "nbconvert_exporter": "python",
   "pygments_lexer": "ipython3",
   "version": "3.12.7"
  }
 },
 "nbformat": 4,
 "nbformat_minor": 5
}
